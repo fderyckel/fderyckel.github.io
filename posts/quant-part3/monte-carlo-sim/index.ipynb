{
  "cells": [
    {
      "cell_type": "raw",
      "metadata": {},
      "source": [
        "---\n",
        "title: \"Modeling Option prices using Monte-Carlo simulations\"\n",
        "author: \"Francois de Ryckel\"\n",
        "date: \"2023-08-27\"\n",
        "description: 'Using the BSE and Monte-Carlo Methods to value option prices'\n",
        "categories: [quant-finance, Black-Schole]\n",
        "editor: source\n",
        "date-modified: \"2023-07-23\"\n",
        "---"
      ],
      "id": "b76462bb"
    },
    {
      "cell_type": "markdown",
      "metadata": {},
      "source": [
        "Recall Monte-Carlo method exploits the relationship between options prices and expectation under a risk-neutral measure. It is the present value of the expectation (under a risk-neutral measure) of the payoff.  In this sense $$V(S, t) = \\text{PV} \\space \\space \\mathbb{E}^\\mathbb{Q} (Payoff)$$\n",
        "\n",
        "We start with the usual SDE (except we use $r$ instead of $\\mu$ as we are under the risk-neutral framework). \n",
        "$$dS_t = r S_t dt + \\sigma S_t dW_t$$\n",
        "Using the Euler discretization \n",
        "$$S_{t + \\delta t} = S_t \\cdot (1 + r \\delta t + \\sigma \\sqrt{\\delta t} \\phi)$$\n",
        "\n",
        "\n",
        "## Using Python \n"
      ],
      "id": "3ac5eea8"
    },
    {
      "cell_type": "code",
      "metadata": {},
      "source": [
        "import pandas as pd\n",
        "import numpy as np\n",
        "\n",
        "def simulate_path(s0, mu, sigma, Time, num_timestep, n_sim): \n",
        "  \n",
        "  np.random.seed(2023)\n",
        "  \n",
        "  S0 = s0\n",
        "  r = mu\n",
        "  T = Time\n",
        "  t = num_timestep \n",
        "  n = n_sim \n",
        "  \n",
        "  #defining dt\n",
        "  dt = T/t\n",
        "  \n",
        "  S = np.zeros((t, n))\n",
        "  S[0] = S0\n",
        "  \n",
        "  for i in range(0, t-1): \n",
        "    w = np.random.standard_normal(n)\n",
        "    S[i+1] = S[i] * (1 + r * dt + sigma * np.sqrt(dt) * w)\n",
        "  \n",
        "  return S\n"
      ],
      "id": "e3114f7b",
      "execution_count": null,
      "outputs": []
    },
    {
      "cell_type": "code",
      "metadata": {},
      "source": [
        "simulate_path(s0=100, mu=0.045, sigma=0.17, Time=0.25, num_timestep=63, n_sim=100)"
      ],
      "id": "24cce5c7",
      "execution_count": null,
      "outputs": []
    },
    {
      "cell_type": "markdown",
      "metadata": {},
      "source": [
        "Let's put that into a dataframe for further plotting and manipulation\n",
        "\n",
        "Note each column of the data frame is a simulation.  The number of rows is the number of time steps. \n"
      ],
      "id": "edacaeb4"
    },
    {
      "cell_type": "code",
      "metadata": {},
      "source": [
        "simulated_paths = pd.DataFrame(simulate_path(s0=100, mu=0.045, sigma=0.17, Time=0.25, num_timestep=63, n_sim=100))"
      ],
      "id": "9a40abe8",
      "execution_count": null,
      "outputs": []
    },
    {
      "cell_type": "code",
      "metadata": {},
      "source": [
        "simulated_paths.iloc[-1].hist()"
      ],
      "id": "d21c13a3",
      "execution_count": null,
      "outputs": []
    },
    {
      "cell_type": "markdown",
      "metadata": {},
      "source": [
        "## Retrieving option data using Yahoo finance \n"
      ],
      "id": "4a7ca874"
    },
    {
      "cell_type": "code",
      "metadata": {},
      "source": [
        "#| eval: false\n"
      ],
      "id": "da242efb",
      "execution_count": null,
      "outputs": []
    },
    {
      "cell_type": "code",
      "metadata": {},
      "source": [
        "#| eval: false\n"
      ],
      "id": "bf9fa11e",
      "execution_count": null,
      "outputs": []
    }
  ],
  "metadata": {
    "kernelspec": {
      "display_name": "Python 3",
      "language": "python",
      "name": "python3"
    }
  },
  "nbformat": 4,
  "nbformat_minor": 5
}