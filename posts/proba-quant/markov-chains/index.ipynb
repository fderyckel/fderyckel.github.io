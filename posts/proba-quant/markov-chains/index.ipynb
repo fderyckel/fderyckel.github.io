{
  "cells": [
    {
      "cell_type": "raw",
      "metadata": {},
      "source": [
        "---\n",
        "title: \"Markov Chains\"\n",
        "author: \"Francois de Ryckel\"\n",
        "date: '2022-10-21'\n",
        "categories: [Random Walk, Markov Chain, code, python]\n",
        "editor: source\n",
        "date-modified: '2022-10-21'\n",
        "---"
      ],
      "id": "b8e3ab6d"
    },
    {
      "cell_type": "markdown",
      "metadata": {},
      "source": [
        "Introduction to Markov Chains\n",
        "\n",
        "::: {.callout-tip appearance=\"simple\"}\n",
        "# Markov Chain\n",
        "\n",
        "Everything that will happen in the future only depends on what is happening right now.\n",
        ":::\n",
        "\n",
        "A Markov chain is a random process with the Markov property. A random process or often called stochastic property is a mathematical object defined as a collection of random variables. A Markov chain has either discrete state space (set of possible values of the random variables) or discrete index set (often representing time) - given the fact, many variations for a Markov chain exists. Usually the term \"Markov chain\" is reserved for a process with a discrete set of times, that is a Discrete Time Markov chain (DTMC).\n",
        "\n",
        "To develop better intuition about Markov chain, the simpler version of it is to model a basic random walk.\n",
        "\n",
        "# Random Walk 101 \n",
        "\n",
        "The situation: we will walk 1000 steps. At each step, we flip a fair coin and move 1 step to the right if it is head and one step to the left if it is tail.\n",
        "\n",
        "## From scratch \n"
      ],
      "id": "9c4bf546"
    },
    {
      "cell_type": "code",
      "metadata": {},
      "source": [
        "#| label: build_basic_random_walk_in_python\n",
        "\n",
        "import numpy as np\n",
        "\n",
        "start = 0\n",
        "y = []\n",
        "n = 1000\n",
        "\n",
        "for i in range(n): \n",
        "  step = np.random.choice([-1, 1], p = [0.5, 0.5])\n",
        "  start += step\n",
        "  y.append(start)\n"
      ],
      "id": "build_basic_random_walk_in_python",
      "execution_count": null,
      "outputs": []
    },
    {
      "cell_type": "code",
      "metadata": {},
      "source": [
        "#| label: plot_basic_random_walk_in_python\n",
        "#| fig-cap: A random walk with a 1000 steps and equal probabilty to go left or right\n",
        "#| fig-cap-location: bottom\n",
        "\n",
        "import matplotlib.pyplot as plt\n",
        "\n",
        "plt.plot(y)\n",
        "#plt.xlabel('Number of steps')\n",
        "#plt.ylabel(r'$S_{n}$')"
      ],
      "id": "plot_basic_random_walk_in_python",
      "execution_count": null,
      "outputs": []
    },
    {
      "cell_type": "markdown",
      "metadata": {},
      "source": [
        "## Using financial data \n",
        "\n",
        "Python code coming from [this post](https://medium.com/the-handbook-of-coding-in-finance/simulating-random-walk-of-stock-prices-with-monte-carlo-simulation-in-python-6e233d841e)\n",
        "\n",
        "A Monte-Carlo simulation of a random-walk of a stock price does assume that the returns follow a **normal distribution**.  A second assumption is that the past volatility of returns will continue (or be very similar) in the future. \n",
        "This is of course not totally the case.  \n",
        "\n",
        "### Getting data and feature engineeriing \n",
        "\n",
        "Getting data using the yfinance package. \n"
      ],
      "id": "0559ee08"
    },
    {
      "cell_type": "code",
      "metadata": {},
      "source": [
        "#| label: getting_sbux_price_data\n",
        "#| eval: false\n",
        "\n",
        "import yfinance as yf\n",
        "import pandas as pd\n",
        "\n",
        "yo = yf.download(\"SBUX\", start = \"2005-01-01\")\n",
        "\n",
        "yo.to_csv(\"../../raw_data/sbux.csv\")\n",
        "\n",
        "yo['Adj Close'][-1]\n",
        "\n",
        "yo.info()\n"
      ],
      "id": "getting_sbux_price_data",
      "execution_count": null,
      "outputs": []
    },
    {
      "cell_type": "markdown",
      "metadata": {},
      "source": [
        "We have imported SBUX stock price data and stored them on disk.  We'll retrieve it using pandas and construct our returns and volatility variables. \n"
      ],
      "id": "90e48415"
    },
    {
      "cell_type": "code",
      "metadata": {},
      "source": [
        "#| label: get_volatility_in_python\n",
        "\n",
        "import pandas as pd\n",
        "\n",
        "sbux = pd.read_csv(\"../../raw_data/sbux.csv\")\n",
        "\n",
        "sbux.tail() \n",
        "\n",
        "# get the daily returns and then filter on the last 2 years of trading. \n",
        "# calculate volatiliy on these last years (not realistic of course)\n",
        "daily_returns = sbux['adjClose'].pct_change()\n",
        "#sbux = sbux.tail(505)\n",
        "daily_volat = daily_returns.std()\n",
        "\n",
        "print(daily_volat)\n",
        "\n",
        "sbux.info()"
      ],
      "id": "get_volatility_in_python",
      "execution_count": null,
      "outputs": []
    },
    {
      "cell_type": "markdown",
      "metadata": {},
      "source": [
        "### Single simulation \n"
      ],
      "id": "45afb8db"
    },
    {
      "cell_type": "code",
      "metadata": {},
      "source": [
        "#| label: first_simulation_in_python\n",
        "\n",
        "import numpy as np\n",
        "import matplotlib.pyplot as plt\n",
        "\n",
        "look_back = 252 \n",
        "count = 0\n",
        "price_list = []\n",
        "last_price = sbux['adjClose'].iloc[-1]\n",
        "\n",
        "price = last_price * (1 + np.random.normal(0, daily_volat)) \n",
        "price_list.append(price)\n",
        "\n",
        "for y in range(look_back): \n",
        "  if count == 251: \n",
        "    break\n",
        "  price = price_list[count] * (1 + np.random.normal(0, daily_volat))\n",
        "  price_list.append(price) \n",
        "  count += 1\n",
        "  \n",
        "plt.plot(price_list)\n",
        "plt.show()\n",
        "\n",
        "#price_list"
      ],
      "id": "first_simulation_in_python",
      "execution_count": null,
      "outputs": []
    },
    {
      "cell_type": "markdown",
      "metadata": {},
      "source": [
        "An here would be another single simulation.  It will of course look vastly different although it is build from the same normal distribution with same mean $\\mu = 0$ and sd $\\sigma = 0$. \n"
      ],
      "id": "eefcd624"
    },
    {
      "cell_type": "code",
      "metadata": {},
      "source": [
        "#| echo: false\n",
        "#| label: second_simulation_in_python\n",
        "\n",
        "look_back = 252 \n",
        "count = 0\n",
        "price_list = []\n",
        "last_price = sbux.iloc[-1]['adjClose']\n",
        "\n",
        "price = last_price * (1 + np.random.normal(0, daily_volat)) \n",
        "price_list.append(price)\n",
        "\n",
        "for y in range(look_back): \n",
        "  if count == 251: \n",
        "    break\n",
        "  price = price_list[count] * (1 + np.random.normal(0, daily_volat))\n",
        "  price_list.append(price) \n",
        "  count += 1\n",
        "  \n",
        "plt.plot(price_list)\n",
        "plt.show()"
      ],
      "id": "second_simulation_in_python",
      "execution_count": null,
      "outputs": []
    },
    {
      "cell_type": "markdown",
      "metadata": {},
      "source": [
        "Now we can re-use that code if we want to create 100's of these simulations.  \n"
      ],
      "id": "540c82b5"
    },
    {
      "cell_type": "code",
      "metadata": {},
      "source": [
        "#| label: py_run_many_simlations\n",
        "\n",
        "num_of_simulations = 100 \n",
        "model_ahead = 252 \n",
        "\n",
        "df = pd.DataFrame()\n",
        "last_price_list = []\n",
        "\n",
        "for x in range(num_of_simulations): \n",
        "  count = 0\n",
        "  price_list = []\n",
        "  last_price = sbux.iloc[-1]['adjClose'] \n",
        "  price = last_price * (1 + np.random.normal(0, daily_volat)) \n",
        "  price_list.append(price) \n",
        "  \n",
        "  for y in range(model_ahead): \n",
        "    if count == 251: \n",
        "      break\n",
        "    price = price_list[count] * (1 + np.random.normal(0, daily_volat)) \n",
        "    price_list.append(price) \n",
        "    count += 1\n",
        "  \n",
        "  df[x] = price_list\n",
        "  last_price_list.append(price_list[-1])\n",
        "    \n",
        "  \n",
        "fig = plt.figure()\n",
        "fig.suptitle(\"Monte Carlo Simulation for SBUX\") \n",
        "plt.plot(df)\n",
        "plt.xlabel(\"Day\")\n",
        "plt.ylabel(\"Price\")\n",
        "plt.show()"
      ],
      "id": "py_run_many_simlations",
      "execution_count": null,
      "outputs": []
    },
    {
      "cell_type": "markdown",
      "metadata": {},
      "source": [
        "With just 10 simulated random-walks on SBUX given the last 17 years of volatility, we can see that price could range between &#36;40 to around &#36;140 dollars over the next 252 trading days (one year).  \n",
        "\n",
        "### Analysis of our MC simulation \n"
      ],
      "id": "c9437b36"
    },
    {
      "cell_type": "code",
      "metadata": {},
      "source": [
        "print(\"Expected price: \", round(np.mean(last_price_list), 2))\n",
        "print(\"Quantile (5%): \", np.percentile(last_price_list, 5))\n",
        "print(\"Quantile (95%): \", np.percentile(last_price_list, 95))"
      ],
      "id": "b69d51e5",
      "execution_count": null,
      "outputs": []
    },
    {
      "cell_type": "code",
      "metadata": {},
      "source": [
        "plt.hist(last_price_list, bins=10) \n",
        "plt.show()"
      ],
      "id": "05333a1f",
      "execution_count": null,
      "outputs": []
    },
    {
      "cell_type": "markdown",
      "metadata": {},
      "source": [
        "# Markov Chain 101 \n",
        "\n",
        "The main concept to deal with in a markov chain is a transition matrix.  \n",
        "\n",
        "## Transition Matrix \n",
        "\n",
        "In a transition matrix, the rows are you starting state and columns are your end of state.   \n",
        "So with the below matrix, the probability to go from state A to state A is 0.8 and probability to go from state A to state D is 0.2.  In this sense, all the rows of a transition matrix should always add up to 1.  \n"
      ],
      "id": "6c9f9bab"
    },
    {
      "cell_type": "code",
      "metadata": {},
      "source": [
        "#| label: example_of_tranistion_matrix_in_python\n",
        "\n",
        "state_A = [0.1, 0.4, 0.3, 0.2, 0]\n",
        "state_B = [0.0, 0.5, 0.5, 0.0, 0]\n",
        "state_C = [0.0, 0.0, 1.0, 0.0, 0]\n",
        "state_D = [0.0, 0.0, 0.0, 0.0, 1.0]\n",
        "state_E = [0.0, 0.0, 0.0, 0.5, 0.5]\n",
        "\n",
        "transition_matrix = [state_A, state_B, state_C, state_D, state_E]"
      ],
      "id": "example_of_tranistion_matrix_in_python",
      "execution_count": null,
      "outputs": []
    },
    {
      "cell_type": "markdown",
      "metadata": {},
      "source": [
        "We could also create a function to check if a transition matrix is indeed a properly formatted transition matrix to model a markov chain. \n"
      ],
      "id": "cdd46a80"
    },
    {
      "cell_type": "code",
      "metadata": {},
      "source": [
        "#| label: function_to_check_format_of_tm\n",
        "\n",
        "def check_markov_chain(m): \n",
        "  for i in range(0, len(m)): \n",
        "    if sum(m[i]) != 1: \n",
        "      return False\n",
        "  print(\"This is a correctly formatted transition matrix\") \n",
        "  \n",
        "check_markov_chain(transition_matrix)"
      ],
      "id": "function_to_check_format_of_tm",
      "execution_count": null,
      "outputs": []
    }
  ],
  "metadata": {
    "kernelspec": {
      "name": "python3",
      "language": "python",
      "display_name": "Python 3 (ipykernel)"
    }
  },
  "nbformat": 4,
  "nbformat_minor": 5
}